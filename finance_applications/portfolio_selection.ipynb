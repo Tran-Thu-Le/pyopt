{
 "cells": [
  {
   "attachments": {},
   "cell_type": "markdown",
   "metadata": {},
   "source": [
    "# Investment Portfolio Selection \n",
    "\n",
    "**Author.** Tran Thu Le & ChatGPT  \n",
    "**Date.** 20/02/2023\n",
    "\n",
    "\n",
    "Investment portfolio selection is a critical decision-making process for companies and individuals. The goal is to determine the optimal investment strategy by selecting a combination of different financial assets, such as stocks and bonds. The decision involves balancing the expected return on investment against the associated risk.\n",
    "\n",
    "In this tutorial, we will consider a simplified example of finding the optimal investment strategy using linear programming in Python.\n",
    "\n",
    "\n",
    "\n",
    "\n",
    "## Problem description\n",
    "\n",
    "An investment company plans to use an investment fund of $500M to buy some shares in the stock market. The Company sets limits based on the purchase amount of each type of securities for the purpose of diversifying the portfolio to hedge risk. The table provides the limits as well as the interest rates of the stocks:\n",
    "\n",
    "- Stock A, expected return 7%  , limit to buy $100M\n",
    "- Stock B, expected return 8.5%, limit to buy $300M\n",
    "- Stock C, expected return 7.8%, limit to buy $250M\n",
    "- Stock D, expected return 8.2%, limit to buy $320M\n",
    "\n",
    "In addition, to prevent investment risks, the company also stipulates that\n",
    "- the investment in class A and C shares must account for at least 55%,\n",
    "- class B must use at least 15% of the total.\n",
    "\n",
    "Determine the amount the company will buy each type of stock so that it does not exceed the initial planned limit, requires diversification and achieves the highest interest rate.\n",
    "\n",
    "\n",
    "## Mathematical formulation\n",
    "\n",
    "The problem can be formulated as a linear programming problem by defining decision variables $x_1, x_2, ..., x_n$ that represent the percentage of the total investment allocated to each asset. The problem can then be stated as a linear programming model:\n",
    "\n",
    "$\\begin{aligned}\n",
    "\\underset{\\substack{\\mathbf{x}}}{\\mathrm{max}} \\quad & 0.07x_1 + 0.085x_2 + 0.078x_3 + 0.082 x_4 \\\\\n",
    "\\text{subject to} \\quad & x_1 + x_3 \\ge 0.55 \\left( x_1+x_2+x_3+x_4\\right)\\\\\n",
    "\\quad & x_2 \\ge 0.15 \\left(x_1+x_2+x_3+x_4 \\right)\\\\\n",
    "\\quad & x_1+x_2+x_3+x_4 \\le 500\\\\\n",
    "\\quad & 0 \\le x_1 \\le 100 \\\\\n",
    " \\quad & 0 \\le x_2 \\le 300 \\\\\n",
    " \\quad & 0 \\le x_3 \\le 250 \\\\\n",
    " \\quad & 0 \\le x_4 \\le 320\n",
    " \\end{aligned}\n",
    "$\n",
    "​"
   ]
  },
  {
   "cell_type": "code",
   "execution_count": 1,
   "metadata": {},
   "outputs": [
    {
     "name": "stdout",
     "output_type": "stream",
     "text": [
      "Solving sucessfully: True\n",
      "Optimal strategy: [ 25. 225. 250.   0.]\n"
     ]
    }
   ],
   "source": [
    "import numpy as np\n",
    "from scipy.optimize import linprog\n",
    "\n",
    "# Define the objective function as a min problem\n",
    "c = [-0.07, -0.085, -0.078, -0.082]\n",
    "\n",
    "# Define the inequality constraints\n",
    "Aineq = [[-0.45,0.55,-0.45,0.55],\n",
    "         [0.15,-0.85,0.15,0.15],\n",
    "         [1,1,1,1]]\n",
    "bineq = [0,0,500]\n",
    "\n",
    "# Define the bounds on the variables\n",
    "x1_bounds = (0, 100)\n",
    "x2_bounds = (0, 300)\n",
    "x3_bounds = (0, 250)\n",
    "x4_bounds = (0, 320)\n",
    "# Solve the linear programming problem\n",
    "res = linprog(c, A_ub=Aineq, b_ub=bineq,\n",
    "              bounds=[x1_bounds, x2_bounds, x3_bounds, x4_bounds],\n",
    "             )\n",
    "\n",
    "print(f\"Solving sucessfully: {res.success}\")\n",
    "print(f\"Optimal strategy: {res.x}\")"
   ]
  }
 ],
 "metadata": {
  "kernelspec": {
   "display_name": "base",
   "language": "python",
   "name": "python3"
  },
  "language_info": {
   "codemirror_mode": {
    "name": "ipython",
    "version": 3
   },
   "file_extension": ".py",
   "mimetype": "text/x-python",
   "name": "python",
   "nbconvert_exporter": "python",
   "pygments_lexer": "ipython3",
   "version": "3.9.13"
  },
  "orig_nbformat": 4,
  "vscode": {
   "interpreter": {
    "hash": "32e6a73af9cde664395d954819f30fbab6a8fb84cb72908e9bd9d997d0df6aa9"
   }
  }
 },
 "nbformat": 4,
 "nbformat_minor": 2
}
