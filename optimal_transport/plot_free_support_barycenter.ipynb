{
  "cells": [
    {
      "cell_type": "markdown",
      "metadata": {},
      "source": [
        "\n",
        "# 2D free support Wasserstein barycenters of distributions\n",
        "\n",
        "Illustration of 2D Wasserstein barycenters if distributions are weighted\n",
        "sum of diracs.\n"
      ]
    },
    {
      "cell_type": "code",
      "execution_count": 1,
      "metadata": {
        "collapsed": false
      },
      "outputs": [
        {
          "ename": "ArgumentError",
          "evalue": "ArgumentError: Package numpy not found in current path.\n- Run `import Pkg; Pkg.add(\"numpy\")` to install the numpy package.",
          "output_type": "error",
          "traceback": [
            "ArgumentError: Package numpy not found in current path.\n",
            "- Run `import Pkg; Pkg.add(\"numpy\")` to install the numpy package.\n",
            "\n",
            "Stacktrace:\n",
            "  [1] macro expansion\n",
            "    @ ./loading.jl:1163 [inlined]\n",
            "  [2] macro expansion\n",
            "    @ ./lock.jl:223 [inlined]\n",
            "  [3] require(into::Module, mod::Symbol)\n",
            "    @ Base ./loading.jl:1144\n",
            "  [4] eval\n",
            "    @ ./boot.jl:368 [inlined]\n",
            "  [5] include_string(mapexpr::typeof(REPL.softscope), mod::Module, code::String, filename::String)\n",
            "    @ Base ./loading.jl:1428\n",
            "  [6] #invokelatest#2\n",
            "    @ ./essentials.jl:729 [inlined]\n",
            "  [7] invokelatest\n",
            "    @ ./essentials.jl:726 [inlined]\n",
            "  [8] (::VSCodeServer.var\"#198#199\"{VSCodeServer.NotebookRunCellArguments, String})()\n",
            "    @ VSCodeServer ~/.vscode/extensions/julialang.language-julia-1.38.2/scripts/packages/VSCodeServer/src/serve_notebook.jl:19\n",
            "  [9] withpath(f::VSCodeServer.var\"#198#199\"{VSCodeServer.NotebookRunCellArguments, String}, path::String)\n",
            "    @ VSCodeServer ~/.vscode/extensions/julialang.language-julia-1.38.2/scripts/packages/VSCodeServer/src/repl.jl:249\n",
            " [10] notebook_runcell_request(conn::VSCodeServer.JSONRPC.JSONRPCEndpoint{Base.PipeEndpoint, Base.PipeEndpoint}, params::VSCodeServer.NotebookRunCellArguments)\n",
            "    @ VSCodeServer ~/.vscode/extensions/julialang.language-julia-1.38.2/scripts/packages/VSCodeServer/src/serve_notebook.jl:13\n",
            " [11] dispatch_msg(x::VSCodeServer.JSONRPC.JSONRPCEndpoint{Base.PipeEndpoint, Base.PipeEndpoint}, dispatcher::VSCodeServer.JSONRPC.MsgDispatcher, msg::Dict{String, Any})\n",
            "    @ VSCodeServer.JSONRPC ~/.vscode/extensions/julialang.language-julia-1.38.2/scripts/packages/JSONRPC/src/typed.jl:67\n",
            " [12] serve_notebook(pipename::String, outputchannel_logger::Base.CoreLogging.SimpleLogger; crashreporting_pipename::String)\n",
            "    @ VSCodeServer ~/.vscode/extensions/julialang.language-julia-1.38.2/scripts/packages/VSCodeServer/src/serve_notebook.jl:139\n",
            " [13] top-level scope\n",
            "    @ ~/.vscode/extensions/julialang.language-julia-1.38.2/scripts/notebook/notebook.jl:32"
          ]
        }
      ],
      "source": [
        "# Authors: Vivien Seguy <vivien.seguy@iip.ist.i.kyoto-u.ac.jp>\n",
        "#          Rémi Flamary <remi.flamary@polytechnique.edu>\n",
        "#\n",
        "# License: MIT License\n",
        "\n",
        "# sphinx_gallery_thumbnail_number = 2\n",
        "\n",
        "import numpy as np\n",
        "import matplotlib.pylab as pl\n",
        "import ot"
      ]
    },
    {
      "cell_type": "markdown",
      "metadata": {},
      "source": [
        "## Generate data\n",
        "\n"
      ]
    },
    {
      "cell_type": "code",
      "execution_count": null,
      "metadata": {
        "collapsed": false
      },
      "outputs": [],
      "source": [
        "N = 2\n",
        "d = 2\n",
        "\n",
        "I1 = pl.imread('../../data/redcross.png').astype(np.float64)[::4, ::4, 2]\n",
        "I2 = pl.imread('../../data/duck.png').astype(np.float64)[::4, ::4, 2]\n",
        "\n",
        "sz = I2.shape[0]\n",
        "XX, YY = np.meshgrid(np.arange(sz), np.arange(sz))\n",
        "\n",
        "x1 = np.stack((XX[I1 == 0], YY[I1 == 0]), 1) * 1.0\n",
        "x2 = np.stack((XX[I2 == 0] + 80, -YY[I2 == 0] + 32), 1) * 1.0\n",
        "x3 = np.stack((XX[I2 == 0], -YY[I2 == 0] + 32), 1) * 1.0\n",
        "\n",
        "measures_locations = [x1, x2]\n",
        "measures_weights = [ot.unif(x1.shape[0]), ot.unif(x2.shape[0])]\n",
        "\n",
        "pl.figure(1, (12, 4))\n",
        "pl.scatter(x1[:, 0], x1[:, 1], alpha=0.5)\n",
        "pl.scatter(x2[:, 0], x2[:, 1], alpha=0.5)\n",
        "pl.title('Distributions')"
      ]
    },
    {
      "cell_type": "markdown",
      "metadata": {},
      "source": [
        "## Compute free support barycenter\n",
        "\n"
      ]
    },
    {
      "cell_type": "code",
      "execution_count": null,
      "metadata": {
        "collapsed": false
      },
      "outputs": [],
      "source": [
        "k = 200  # number of Diracs of the barycenter\n",
        "X_init = np.random.normal(0., 1., (k, d))  # initial Dirac locations\n",
        "b = np.ones((k,)) / k  # weights of the barycenter (it will not be optimized, only the locations are optimized)\n",
        "\n",
        "X = ot.lp.free_support_barycenter(measures_locations, measures_weights, X_init, b)"
      ]
    },
    {
      "cell_type": "markdown",
      "metadata": {},
      "source": [
        "## Plot the barycenter\n",
        "\n"
      ]
    },
    {
      "cell_type": "code",
      "execution_count": null,
      "metadata": {
        "collapsed": false
      },
      "outputs": [],
      "source": [
        "pl.figure(2, (8, 3))\n",
        "pl.scatter(x1[:, 0], x1[:, 1], alpha=0.5)\n",
        "pl.scatter(x2[:, 0], x2[:, 1], alpha=0.5)\n",
        "pl.scatter(X[:, 0], X[:, 1], s=b * 1000, marker='s', label='2-Wasserstein barycenter')\n",
        "pl.title('Data measures and their barycenter')\n",
        "pl.legend(loc=\"lower right\")\n",
        "pl.show()"
      ]
    }
  ],
  "metadata": {
    "kernelspec": {
      "display_name": "Julia 1.8.5",
      "language": "julia",
      "name": "julia-1.8"
    },
    "language_info": {
      "file_extension": ".jl",
      "mimetype": "application/julia",
      "name": "julia",
      "version": "1.8.5"
    }
  },
  "nbformat": 4,
  "nbformat_minor": 0
}
