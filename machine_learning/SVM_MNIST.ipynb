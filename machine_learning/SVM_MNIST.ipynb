{
 "cells": [
  {
   "attachments": {},
   "cell_type": "markdown",
   "metadata": {},
   "source": [
    "# Using Support Vector Machines (SVM) to Classify the MNIST Dataset\n",
    "\n",
    "In this blog post, we will explore how Support Vector Machines (SVM) can be used to classify the MNIST dataset, which consists of handwritten digit images. SVM is a powerful machine learning algorithm that is well-suited for binary classification tasks. We will cover the following topics:\n",
    "\n",
    "1. Soft-Margin SVM\n",
    "2. Sequential Minimal Optimization (SMO) Algorithm\n",
    "3. MNIST Dataset and Classification using One-vs-Rest (OVR)\n",
    "4. Code Implementation\n",
    "\n",
    "## 1. Soft-Margin SVM\n",
    "\n",
    "Support Vector Machines (SVM) is a binary classification method that aims to find the best hyperplane that separates the data points of different classes with the maximum margin. In the case of [soft-margin SVM](https://en.wikipedia.org/wiki/Support_vector_machine#Soft-margin), we introduce a regularization parameter (C) that allows for some misclassification of training examples to achieve a balance between margin maximization and avoiding overfitting.\n",
    "\n",
    "## 2. Sequential Minimal Optimization (SMO) Algorithm\n",
    "\n",
    "[SMO](https://en.wikipedia.org/wiki/Sequential_minimal_optimization) is an algorithm commonly used to solve the optimization problem associated with training an SVM. It breaks down the [dual problem](https://en.wikipedia.org/wiki/Support_vector_machine#Soft-margin), which is a quadratic programming with box and one linear constraint, into a series of smaller subproblems, optimizing the Lagrange multipliers in pairs. This iterative process continues until convergence is reached, leading to the determination of the support vectors and the decision boundary.\n",
    "\n",
    "## 3. MNIST Dataset and Classification using One-vs-Rest (OVR)\n",
    "\n",
    "The [MNIST dataset](https://scikit-learn.org/stable/auto_examples/classification/plot_digits_classification.html) consists of grayscale images of handwritten digits from 0 to 9. Each image is represented by a matrix of pixel values. To classify the MNIST dataset using SVM, we can adopt the One-vs-Rest (OVR) strategy. This approach trains multiple binary classifiers, where each classifier distinguishes one class from the rest. In our code example, we use scikit-learn's `svm.SVC` class with a linear kernel and the OVR decision function shape.\n",
    "\n",
    "## 4. Code Implementation\n"
   ]
  },
  {
   "cell_type": "code",
   "execution_count": 1,
   "metadata": {},
   "outputs": [
    {
     "name": "stdout",
     "output_type": "stream",
     "text": [
      "Accuracy: 0.9861111111111112\n"
     ]
    },
    {
     "data": {
      "image/png": "[encoded data removed]",
      "text/plain": [
       "<Figure size 800x400 with 8 Axes>"
      ]
     },
     "metadata": {},
     "output_type": "display_data"
    }
   ],
   "source": [
    "# Code for SVM classification of the MNIST dataset\n",
    "\n",
    "# Import necessary libraries\n",
    "from sklearn import datasets\n",
    "from sklearn.model_selection import train_test_split\n",
    "from sklearn import svm\n",
    "import matplotlib.pyplot as plt\n",
    "import numpy as np\n",
    "\n",
    "# Load the MNIST dataset\n",
    "digits = datasets.load_digits()\n",
    "X = digits.data / 16.0\n",
    "y = digits.target\n",
    "\n",
    "# Split the dataset into training and testing sets\n",
    "X_train, X_test, y_train, y_test = train_test_split(X, y, test_size=0.2, random_state=42)\n",
    "\n",
    "# Create an SVM classifier with a linear kernel and OvR strategy\n",
    "clf = svm.SVC(kernel='linear', decision_function_shape='ovr')\n",
    "\n",
    "# Train the SVM model and predict the labels for the testing data\n",
    "clf.fit(X_train, y_train) \n",
    "y_pred = clf.predict(X_test)\n",
    "\n",
    "# Evaluate the accuracy of the model\n",
    "accuracy = clf.score(X_test, y_test)\n",
    "print(\"Accuracy:\", accuracy)\n",
    "\n",
    "# Select 8 random samples from the testing set\n",
    "random_indices = np.random.choice(len(X_test), size=8, replace=False)\n",
    "X_samples = X_test[random_indices]\n",
    "y_samples = y_pred[random_indices]\n",
    "\n",
    "# Create a figure with 2x4 subplots\n",
    "fig, axes = plt.subplots(2, 4, figsize=(2*4, 2*2))\n",
    "\n",
    "# Iterate through each subplot and plot the sample with the predicted label\n",
    "for i, ax in enumerate(axes.flat):\n",
    "    ax.imshow(X_samples[i].reshape(8, 8), cmap='gray')\n",
    "    ax.set_title(f\"Predicted: {y_samples[i]}\")\n",
    "    ax.axis('off')\n",
    "\n",
    "plt.tight_layout()\n",
    "plt.show()"
   ]
  }
 ],
 "metadata": {
  "kernelspec": {
   "display_name": "base",
   "language": "python",
   "name": "python3"
  },
  "language_info": {
   "codemirror_mode": {
    "name": "ipython",
    "version": 3
   },
   "file_extension": ".py",
   "mimetype": "text/x-python",
   "name": "python",
   "nbconvert_exporter": "python",
   "pygments_lexer": "ipython3",
   "version": "3.9.13"
  },
  "orig_nbformat": 4
 },
 "nbformat": 4,
 "nbformat_minor": 2
}
