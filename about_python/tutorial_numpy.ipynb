{
 "cells": [
  {
   "attachments": {},
   "cell_type": "markdown",
   "metadata": {},
   "source": [
    "# Introduction to Numpy\n",
    "\n",
    "**Author:** ChatGPT & Tran Thu Le  \n",
    "**Date:** 20/02/2023\n",
    "\n",
    "**Abstract.** NumPy is a Python library that stands for “Numerical Python”. In this tutorial, we will cover the basics of NumPy and show you how to use this library to work with matrices and vectors."
   ]
  },
  {
   "attachments": {},
   "cell_type": "markdown",
   "metadata": {},
   "source": [
    "To use NumPy, we need to import it. We can do this using the following code:"
   ]
  },
  {
   "cell_type": "code",
   "execution_count": 1,
   "metadata": {},
   "outputs": [],
   "source": [
    "import numpy as np"
   ]
  },
  {
   "attachments": {},
   "cell_type": "markdown",
   "metadata": {},
   "source": [
    "## Creating NumPy Arrays\n",
    "The primary data structure in NumPy is the “ndarray”, or N-dimensional array. We can create an array in several ways."
   ]
  },
  {
   "cell_type": "code",
   "execution_count": 2,
   "metadata": {},
   "outputs": [
    {
     "name": "stdout",
     "output_type": "stream",
     "text": [
      "[1 2 3 4 5]\n"
     ]
    }
   ],
   "source": [
    "list1 = [1, 2, 3, 4, 5]\n",
    "arr1 = np.array(list1)\n",
    "print(arr1)"
   ]
  },
  {
   "cell_type": "code",
   "execution_count": 3,
   "metadata": {},
   "outputs": [
    {
     "name": "stdout",
     "output_type": "stream",
     "text": [
      "[0. 0. 0. 0. 0.]\n",
      "[1. 1. 1. 1. 1.]\n",
      "[0.69024058 0.82565173 0.82387809 0.19454457 0.97856382]\n"
     ]
    }
   ],
   "source": [
    "# Create an array of zeros\n",
    "zeros_arr = np.zeros(5)\n",
    "print(zeros_arr)\n",
    "\n",
    "# Create an array of ones\n",
    "ones_arr = np.ones(5)\n",
    "print(ones_arr)\n",
    "\n",
    "# Create an array of random values between 0 and 1\n",
    "rand_arr = np.random.rand(5)\n",
    "print(rand_arr)"
   ]
  },
  {
   "attachments": {},
   "cell_type": "markdown",
   "metadata": {},
   "source": [
    "## Indexing and Slicing NumPy Arrays\n",
    "We can access individual elements of a NumPy array using indexing. Indexing in NumPy is zero-based, meaning that the first element has an index of 0, the second element has an index of 1, and so on."
   ]
  },
  {
   "cell_type": "code",
   "execution_count": 4,
   "metadata": {},
   "outputs": [
    {
     "name": "stdout",
     "output_type": "stream",
     "text": [
      "1\n",
      "4\n"
     ]
    }
   ],
   "source": [
    "print(arr1[0])\n",
    "print(arr1[3])"
   ]
  },
  {
   "attachments": {},
   "cell_type": "markdown",
   "metadata": {},
   "source": [
    "We can also slice NumPy arrays to select a range of values. Slicing in NumPy is similar to slicing in Python lists."
   ]
  },
  {
   "cell_type": "code",
   "execution_count": 5,
   "metadata": {},
   "outputs": [
    {
     "name": "stdout",
     "output_type": "stream",
     "text": [
      "[2 3 4]\n",
      "[1 2 3]\n",
      "[3 4 5]\n"
     ]
    }
   ],
   "source": [
    "# Slice elements 1 through 3\n",
    "print(arr1[1:4])\n",
    "\n",
    "# Slice elements 0 through 2\n",
    "print(arr1[:3])\n",
    "\n",
    "# Slice elements 2 through the end\n",
    "print(arr1[2:])"
   ]
  },
  {
   "attachments": {},
   "cell_type": "markdown",
   "metadata": {},
   "source": [
    "## Matrix and vector"
   ]
  },
  {
   "cell_type": "code",
   "execution_count": 6,
   "metadata": {},
   "outputs": [
    {
     "name": "stdout",
     "output_type": "stream",
     "text": [
      "[[1 2 3]\n",
      " [4 5 6]\n",
      " [7 8 9]]\n",
      "[1 2 3]\n",
      "[14 32 50]\n"
     ]
    }
   ],
   "source": [
    "matrix = np.array([[1, 2, 3], [4, 5, 6], [7, 8, 9]])\n",
    "print(matrix)\n",
    "\n",
    "vector = np.array([1, 2, 3])\n",
    "print(vector)\n",
    "\n",
    "# matrix vector multiplication\n",
    "print(matrix.dot(vector))"
   ]
  },
  {
   "attachments": {},
   "cell_type": "markdown",
   "metadata": {},
   "source": [
    "## Element-wise Operations\n",
    "NumPy provides a variety of functions for performing element-wise operations on arrays. Element-wise operations allow us to apply an operation to each element in an array individually, rather than to the entire array as a whole."
   ]
  },
  {
   "cell_type": "code",
   "execution_count": 7,
   "metadata": {},
   "outputs": [
    {
     "name": "stdout",
     "output_type": "stream",
     "text": [
      "[5 7 9]\n",
      "[3 3 3]\n",
      "[ 4 10 18]\n",
      "[4.  2.5 2. ]\n"
     ]
    }
   ],
   "source": [
    "arr1 = np.array([1, 2, 3])\n",
    "arr2 = np.array([4, 5, 6])\n",
    "\n",
    "# Add two arrays\n",
    "print(arr1 + arr2)\n",
    "\n",
    "# Subtract two arrays\n",
    "print(arr2 - arr1)\n",
    "\n",
    "# Multiply two arrays\n",
    "print(arr1 * arr2)\n",
    "\n",
    "# Divide two arrays\n",
    "print(arr2 / arr1)"
   ]
  },
  {
   "attachments": {},
   "cell_type": "markdown",
   "metadata": {},
   "source": [
    "NumPy also allows us to perform element-wise operations on arrays of different shapes and sizes using a technique called broadcasting. Broadcasting allows us to apply an operation to two arrays with different shapes, as long as the shapes can be aligned in a way that makes sense."
   ]
  },
  {
   "cell_type": "code",
   "execution_count": 8,
   "metadata": {},
   "outputs": [
    {
     "name": "stdout",
     "output_type": "stream",
     "text": [
      "[3 4 5]\n",
      "[2 4 6]\n"
     ]
    }
   ],
   "source": [
    "arr1 = np.array([1, 2, 3])\n",
    "scalar = 2\n",
    "\n",
    "# Add a scalar to an array\n",
    "print(arr1 + scalar)\n",
    "\n",
    "# Multiply an array by a scalar\n",
    "print(arr1 * scalar)"
   ]
  },
  {
   "attachments": {},
   "cell_type": "markdown",
   "metadata": {},
   "source": [
    "## Universal Functions\n",
    "NumPy provides many universal functions that can be used to perform element-wise operations on arrays. These functions are optimized for speed and can be used on arrays of any size.\n",
    "\n"
   ]
  },
  {
   "cell_type": "code",
   "execution_count": 9,
   "metadata": {},
   "outputs": [
    {
     "name": "stdout",
     "output_type": "stream",
     "text": [
      "[1.         1.41421356 1.73205081]\n",
      "[ 2.71828183  7.3890561  20.08553692]\n",
      "[0.84147098 0.90929743 0.14112001]\n",
      "[0.         0.69314718 1.09861229]\n"
     ]
    }
   ],
   "source": [
    "arr1 = np.array([1, 2, 3])\n",
    "\n",
    "# Compute the square root of each element in the array\n",
    "print(np.sqrt(arr1))\n",
    "\n",
    "# Compute the exponential of each element in the array\n",
    "print(np.exp(arr1))\n",
    "\n",
    "# Compute the sine of each element in the array\n",
    "print(np.sin(arr1))\n",
    "\n",
    "# Compute the logarithm of each element in the array\n",
    "print(np.log(arr1))"
   ]
  },
  {
   "attachments": {},
   "cell_type": "markdown",
   "metadata": {},
   "source": [
    "## Shape and Reshaping Arrays\n",
    "In NumPy, we find the shape and reshape an array as follows."
   ]
  },
  {
   "cell_type": "code",
   "execution_count": 10,
   "metadata": {},
   "outputs": [
    {
     "name": "stdout",
     "output_type": "stream",
     "text": [
      "(9,)\n",
      "(3, 3)\n"
     ]
    }
   ],
   "source": [
    "arr1 = np.array([1, 2, 3, 4, 5, 6, 7, 8, 9])\n",
    "\n",
    "# show shape of arr1\n",
    "print(arr1.shape)\n",
    "\n",
    "# Reshape the array to a 3x3 matrix\n",
    "matrix1 = arr1.reshape(3, 3)\n",
    "print(matrix1.shape)"
   ]
  }
 ],
 "metadata": {
  "kernelspec": {
   "display_name": "base",
   "language": "python",
   "name": "python3"
  },
  "language_info": {
   "codemirror_mode": {
    "name": "ipython",
    "version": 3
   },
   "file_extension": ".py",
   "mimetype": "text/x-python",
   "name": "python",
   "nbconvert_exporter": "python",
   "pygments_lexer": "ipython3",
   "version": "3.9.13"
  },
  "orig_nbformat": 4,
  "vscode": {
   "interpreter": {
    "hash": "32e6a73af9cde664395d954819f30fbab6a8fb84cb72908e9bd9d997d0df6aa9"
   }
  }
 },
 "nbformat": 4,
 "nbformat_minor": 2
}
