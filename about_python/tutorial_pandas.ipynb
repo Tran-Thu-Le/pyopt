{
 "cells": [
  {
   "attachments": {},
   "cell_type": "markdown",
   "metadata": {},
   "source": [
    "# Introduction to Pandas\n",
    "\n",
    "**Author:** ChatGPT & Tran Thu Le  \n",
    "**Date:** 20/02/2023\n",
    "\n",
    "**Abstract.** Pandas is a powerful data analysis library for Python. The two main data structures provided by pandas are the **Series** and **DataFrame** objects, which can be used to represent one-dimensional and two-dimensional data, respectively.\n",
    "\n",
    "This tutorial covered some basic functions such as\n",
    "1. selecting\n",
    "2. filtering\n",
    "3. adding\n",
    "4. modifying\n",
    "5. grouping \n",
    "6. sorting\n",
    "7. Reading and Interacting with Excel Files\n",
    "\n",
    "There are many more features to pandas, but this should give you a good foundation for getting started with your own data analysis projects.\n"
   ]
  },
  {
   "attachments": {},
   "cell_type": "markdown",
   "metadata": {},
   "source": [
    "## Installation\n",
    "To install pandas, you can use the following command in terminal:\n",
    "\n",
    "```bash\n",
    "pip install pandas\n",
    "```\n",
    "\n",
    "In Jupyter Notebook or Google Colab, you should add `!` before the command.\n",
    "\n",
    "```bash\n",
    "!pip install pandas\n",
    "```"
   ]
  },
  {
   "attachments": {},
   "cell_type": "markdown",
   "metadata": {},
   "source": [
    "## Creating a Series\n",
    "A Series is a one-dimensional array-like object containing a sequence of values and an associated array of labels, called its index. Here's an example of creating a Series:"
   ]
  },
  {
   "cell_type": "code",
   "execution_count": 1,
   "metadata": {},
   "outputs": [
    {
     "name": "stdout",
     "output_type": "stream",
     "text": [
      "0    1\n",
      "1    3\n",
      "2    5\n",
      "3   -1\n",
      "4    6\n",
      "5    8\n",
      "dtype: int64\n"
     ]
    }
   ],
   "source": [
    "import pandas as pd\n",
    "\n",
    "s = pd.Series([1, 3, 5, -1, 6, 8])\n",
    "print(s)"
   ]
  },
  {
   "attachments": {},
   "cell_type": "markdown",
   "metadata": {},
   "source": [
    "## Creating a DataFrame\n",
    "A DataFrame is a two-dimensional table-like data structure consisting of rows and columns. You can create a DataFrame from a variety of data sources, such as a CSV file, a SQL query, or a dictionary. Here's an example of creating a DataFrame from a dictionary:"
   ]
  },
  {
   "cell_type": "code",
   "execution_count": 2,
   "metadata": {},
   "outputs": [
    {
     "name": "stdout",
     "output_type": "stream",
     "text": [
      "      name  age           city\n",
      "0    Alice   25       New York\n",
      "1      Bob   32          Paris\n",
      "2  Charlie   18         London\n",
      "3     Dave   47  San Francisco\n"
     ]
    }
   ],
   "source": [
    "data = {\n",
    "    'name': ['Alice', 'Bob', 'Charlie', 'Dave'],\n",
    "    'age': [25, 32, 18, 47],\n",
    "    'city': ['New York', 'Paris', 'London', 'San Francisco']\n",
    "}\n",
    "df = pd.DataFrame(data)\n",
    "print(df)"
   ]
  },
  {
   "attachments": {},
   "cell_type": "markdown",
   "metadata": {},
   "source": [
    "## Selecting Data\n",
    "To select a single column from a DataFrame, you can use the column label as an index:"
   ]
  },
  {
   "cell_type": "code",
   "execution_count": 3,
   "metadata": {},
   "outputs": [
    {
     "name": "stdout",
     "output_type": "stream",
     "text": [
      "0      Alice\n",
      "1        Bob\n",
      "2    Charlie\n",
      "3       Dave\n",
      "Name: name, dtype: object\n"
     ]
    }
   ],
   "source": [
    "names = df['name']\n",
    "print(names)"
   ]
  },
  {
   "attachments": {},
   "cell_type": "markdown",
   "metadata": {},
   "source": [
    "To select multiple columns, you can pass a list of column labels:"
   ]
  },
  {
   "cell_type": "code",
   "execution_count": 4,
   "metadata": {},
   "outputs": [
    {
     "name": "stdout",
     "output_type": "stream",
     "text": [
      "      name  age\n",
      "0    Alice   25\n",
      "1      Bob   32\n",
      "2  Charlie   18\n",
      "3     Dave   47\n"
     ]
    }
   ],
   "source": [
    "subset = df[['name', 'age']]\n",
    "print(subset)\n"
   ]
  },
  {
   "attachments": {},
   "cell_type": "markdown",
   "metadata": {},
   "source": [
    "To select a row, you can use the loc[] function:"
   ]
  },
  {
   "cell_type": "code",
   "execution_count": 5,
   "metadata": {},
   "outputs": [
    {
     "name": "stdout",
     "output_type": "stream",
     "text": [
      "name       Alice\n",
      "age           25\n",
      "city    New York\n",
      "Name: 0, dtype: object\n"
     ]
    }
   ],
   "source": [
    "row = df.loc[0]\n",
    "print(row)"
   ]
  },
  {
   "attachments": {},
   "cell_type": "markdown",
   "metadata": {},
   "source": [
    "## Filtering Data\n",
    "You can filter a DataFrame by selecting rows that meet certain criteria. For example, to select all rows where the age is greater than 30, you can use the following code:"
   ]
  },
  {
   "cell_type": "code",
   "execution_count": 6,
   "metadata": {},
   "outputs": [
    {
     "name": "stdout",
     "output_type": "stream",
     "text": [
      "   name  age           city\n",
      "1   Bob   32          Paris\n",
      "3  Dave   47  San Francisco\n"
     ]
    }
   ],
   "source": [
    "subset = df[df['age'] > 30]\n",
    "print(subset)"
   ]
  },
  {
   "attachments": {},
   "cell_type": "markdown",
   "metadata": {},
   "source": [
    "\n",
    "## Adding Data\n",
    "\n",
    "You can add a new column to a `DataFrame` by assigning a `Series` to a new column label:\n",
    "\n",
    "\n"
   ]
  },
  {
   "cell_type": "code",
   "execution_count": 7,
   "metadata": {},
   "outputs": [
    {
     "name": "stdout",
     "output_type": "stream",
     "text": [
      "      name  age           city  new_column\n",
      "0    Alice   25       New York           1\n",
      "1      Bob   32          Paris           2\n",
      "2  Charlie   18         London           3\n",
      "3     Dave   47  San Francisco           4\n"
     ]
    }
   ],
   "source": [
    "df['new_column'] = pd.Series([1, 2, 3, 4])\n",
    "print(df)"
   ]
  },
  {
   "cell_type": "markdown",
   "metadata": {},
   "source": []
  },
  {
   "attachments": {},
   "cell_type": "markdown",
   "metadata": {},
   "source": [
    "## Modifying Data\n",
    "\n",
    "To modify an existing column, you can use the column label and assign a new value to it:"
   ]
  },
  {
   "cell_type": "code",
   "execution_count": 8,
   "metadata": {},
   "outputs": [
    {
     "name": "stdout",
     "output_type": "stream",
     "text": [
      "      name  age           city  new_column\n",
      "0    Alice   26       New York           1\n",
      "1      Bob   33          Paris           2\n",
      "2  Charlie   19         London           3\n",
      "3     Dave   48  San Francisco           4\n"
     ]
    }
   ],
   "source": [
    "df['age'] = df['age'] + 1\n",
    "print(df)"
   ]
  },
  {
   "attachments": {},
   "cell_type": "markdown",
   "metadata": {},
   "source": [
    "## Grouping Data\n",
    "You can group a DataFrame by one or more columns and apply an aggregate function to each group. For example, to calculate the average age for each city in our DataFrame, we can use the following code:"
   ]
  },
  {
   "cell_type": "code",
   "execution_count": 9,
   "metadata": {},
   "outputs": [
    {
     "name": "stdout",
     "output_type": "stream",
     "text": [
      "city\n",
      "London           19.0\n",
      "New York         26.0\n",
      "Paris            33.0\n",
      "San Francisco    48.0\n",
      "Name: age, dtype: float64\n"
     ]
    }
   ],
   "source": [
    "grouped = df.groupby('city')['age'].mean()\n",
    "print(grouped)"
   ]
  },
  {
   "attachments": {},
   "cell_type": "markdown",
   "metadata": {},
   "source": [
    "## Sorting Data\n",
    "You can sort a DataFrame by one or more columns using the sort_values() function. For example, to sort our DataFrame by age in descending order, we can use the following code:"
   ]
  },
  {
   "cell_type": "code",
   "execution_count": 10,
   "metadata": {},
   "outputs": [
    {
     "name": "stdout",
     "output_type": "stream",
     "text": [
      "      name  age           city  new_column\n",
      "3     Dave   48  San Francisco           4\n",
      "1      Bob   33          Paris           2\n",
      "0    Alice   26       New York           1\n",
      "2  Charlie   19         London           3\n"
     ]
    }
   ],
   "source": [
    "sorted = df.sort_values(by='age', ascending=False)\n",
    "print(sorted)"
   ]
  },
  {
   "attachments": {},
   "cell_type": "markdown",
   "metadata": {},
   "source": [
    "## Reading and Interacting with Excel Files\n",
    "Pandas can also read and interact with Excel files. The read_excel() function can read an Excel file into a pandas DataFrame. Let's assume that you have an Excel file named data.xlsx in your working directory that contains the following data:"
   ]
  },
  {
   "attachments": {},
   "cell_type": "markdown",
   "metadata": {},
   "source": [
    "Pandas can also read and interact with Excel files. Let's assume that you have an Excel file named data.xlsx in your working directory that contains the following data:\n",
    "\n",
    "| Name    | Age | City         |\n",
    "|---------|-----|--------------|\n",
    "| Alice   | 25  | New York     |\n",
    "| Bob     | 32  | Paris        |\n",
    "| Charlie | 18  | London       |\n",
    "| Dave    | 47  | San Francisco|\n",
    "\n",
    "To read this data into a DataFrame, you can use the following code:\n",
    "\n",
    "```py\n",
    "import pandas as pd\n",
    "\n",
    "# load data into python\n",
    "df = pd.read_excel('data.xlsx')\n",
    "print(df)\n",
    "\n",
    "# create new excel file\n",
    "df.to_excel('output.xlsx', index=False)\n",
    "```\n",
    "\n",
    "\n"
   ]
  }
 ],
 "metadata": {
  "kernelspec": {
   "display_name": "base",
   "language": "python",
   "name": "python3"
  },
  "language_info": {
   "codemirror_mode": {
    "name": "ipython",
    "version": 3
   },
   "file_extension": ".py",
   "mimetype": "text/x-python",
   "name": "python",
   "nbconvert_exporter": "python",
   "pygments_lexer": "ipython3",
   "version": "3.9.13"
  },
  "orig_nbformat": 4,
  "vscode": {
   "interpreter": {
    "hash": "32e6a73af9cde664395d954819f30fbab6a8fb84cb72908e9bd9d997d0df6aa9"
   }
  }
 },
 "nbformat": 4,
 "nbformat_minor": 2
}
