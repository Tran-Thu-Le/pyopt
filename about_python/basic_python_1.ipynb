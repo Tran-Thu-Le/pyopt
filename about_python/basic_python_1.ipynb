{
    "cells": [
        {
            "cell_type": "markdown",
            "metadata": {
                "colab_type": "text",
                "id": "view-in-github"
            },
            "source": [
                "<a href=\"https://colab.research.google.com/github/Tran-Thu-Le/share/blob/main/Seminar_210605_Python_Intro.ipynb\" target=\"_parent\"><img src=\"https://colab.research.google.com/assets/colab-badge.svg\" alt=\"Open In Colab\"/></a>"
            ]
        },
        {
            "cell_type": "markdown",
            "metadata": {
                "id": "W9iyVTq9U2TE"
            },
            "source": [
                "# Basic Concepts in Python (Part 1)\n",
                "\n",
                "**Author:** [Tran Thu Le][le]\n",
                "\n",
                "**Note:** To open this file in Google Colab from Github: Change \"github\" in url to \"githubtocolab\" and hit `Enter`\n",
                "\n",
                "[le]: https://tranthule.blogspot.com/p/about-me.html"
            ]
        },
        {
            "cell_type": "markdown",
            "metadata": {},
            "source": [
                "This notebook provides the basic terminalogies in Python that you should learn.\n",
                "\n",
                "\n",
                "**Contents (Part 1):**\n",
                "1. Comment and print function\n",
                "2. Data types: int, float, bool, str, f-string, None\n",
                "3. Variable and function\n",
                "4. If-else, for, while, try-except\n",
                "\n",
                "\n",
                "**Contents (Part 2):** \n",
                "1. Class-Objects\n",
                "2. Pakages: math, numpy, matplotlib"
            ]
        },
        {
            "cell_type": "markdown",
            "metadata": {
                "id": "7__we_p0bRtr"
            },
            "source": [
                "## 1. Comment and print function"
            ]
        },
        {
            "cell_type": "code",
            "execution_count": 1,
            "metadata": {
                "colab": {
                    "base_uri": "https://localhost:8080/"
                },
                "id": "62QNlgtbZDgm",
                "outputId": "c932228b-0ee0-46d9-f9c4-9ab45890bfea"
            },
            "outputs": [
                {
                    "name": "stdout",
                    "output_type": "stream",
                    "text": [
                        "5\n"
                    ]
                }
            ],
            "source": [
                "# this is a comment\n",
                "print(2+3)"
            ]
        },
        {
            "cell_type": "markdown",
            "metadata": {},
            "source": [
                "## 2. Data types"
            ]
        },
        {
            "cell_type": "code",
            "execution_count": 2,
            "metadata": {},
            "outputs": [
                {
                    "name": "stdout",
                    "output_type": "stream",
                    "text": [
                        "<class 'int'>\n"
                    ]
                }
            ],
            "source": [
                "a = 1 # this is an interger=int \n",
                "print(type(a))"
            ]
        },
        {
            "cell_type": "code",
            "execution_count": 3,
            "metadata": {},
            "outputs": [
                {
                    "name": "stdout",
                    "output_type": "stream",
                    "text": [
                        "<class 'float'>\n"
                    ]
                }
            ],
            "source": [
                "b = 1.0 # this is a real number=float\n",
                "print(type(b))"
            ]
        },
        {
            "cell_type": "code",
            "execution_count": 4,
            "metadata": {},
            "outputs": [
                {
                    "name": "stdout",
                    "output_type": "stream",
                    "text": [
                        "<class 'bool'>\n"
                    ]
                }
            ],
            "source": [
                "c = True # or False, this is boolean=bool \n",
                "print(type(c))"
            ]
        },
        {
            "cell_type": "code",
            "execution_count": 5,
            "metadata": {},
            "outputs": [
                {
                    "name": "stdout",
                    "output_type": "stream",
                    "text": [
                        "<class 'str'>\n"
                    ]
                }
            ],
            "source": [
                "d = \"hello world\" # this a string=str \n",
                "print(type(d))"
            ]
        },
        {
            "cell_type": "code",
            "execution_count": 6,
            "metadata": {},
            "outputs": [
                {
                    "name": "stdout",
                    "output_type": "stream",
                    "text": [
                        "as you known 2+3=5\n"
                    ]
                }
            ],
            "source": [
                "e = f\"as you known 2+3={2+3}\" # this is an f-string\n",
                "print(e)"
            ]
        },
        {
            "cell_type": "code",
            "execution_count": 7,
            "metadata": {},
            "outputs": [
                {
                    "name": "stdout",
                    "output_type": "stream",
                    "text": [
                        "<class 'NoneType'>\n"
                    ]
                }
            ],
            "source": [
                "f = None \n",
                "print(type(f))"
            ]
        },
        {
            "cell_type": "markdown",
            "metadata": {},
            "source": [
                "## 3. Variable and Function"
            ]
        },
        {
            "cell_type": "code",
            "execution_count": 8,
            "metadata": {},
            "outputs": [
                {
                    "data": {
                        "text/plain": [
                            "7"
                        ]
                    },
                    "execution_count": 8,
                    "metadata": {},
                    "output_type": "execute_result"
                }
            ],
            "source": [
                "g = 4 # here g is a variable and 4 is a value of g\n",
                "g+3\n"
            ]
        },
        {
            "cell_type": "code",
            "execution_count": 9,
            "metadata": {},
            "outputs": [
                {
                    "data": {
                        "text/plain": [
                            "5"
                        ]
                    },
                    "execution_count": 9,
                    "metadata": {},
                    "output_type": "execute_result"
                }
            ],
            "source": [
                "def my_function(x, y): # a function starts with the keyword `def` + function_name (variables) :\n",
                "    return x+y # use `return` keyword to return the value that you want \n",
                "\n",
                "my_function(2, 3)"
            ]
        },
        {
            "cell_type": "markdown",
            "metadata": {},
            "source": [
                "## 4. If-else, for, while, try-except"
            ]
        },
        {
            "cell_type": "code",
            "execution_count": 10,
            "metadata": {},
            "outputs": [
                {
                    "name": "stdout",
                    "output_type": "stream",
                    "text": [
                        "x is positive\n"
                    ]
                }
            ],
            "source": [
                "x = 1 \n",
                "if x>0:\n",
                "    print(\"x is positive\")\n",
                "else:\n",
                "    print(\"is non-positive\")"
            ]
        },
        {
            "cell_type": "code",
            "execution_count": 11,
            "metadata": {},
            "outputs": [
                {
                    "name": "stdout",
                    "output_type": "stream",
                    "text": [
                        "we are being at iteration i=0\n",
                        "we are being at iteration i=1\n",
                        "we are being at iteration i=2\n",
                        "we are being at iteration i=3\n",
                        "we are being at iteration i=4\n",
                        "we are being at iteration i=5\n",
                        "we are being at iteration i=6\n",
                        "we are being at iteration i=7\n",
                        "we are being at iteration i=8\n",
                        "we are being at iteration i=9\n"
                    ]
                }
            ],
            "source": [
                "for i in range(10):\n",
                "    print(f\"we are being at iteration i={i}\")"
            ]
        },
        {
            "cell_type": "code",
            "execution_count": 12,
            "metadata": {},
            "outputs": [
                {
                    "name": "stdout",
                    "output_type": "stream",
                    "text": [
                        "we are being at iteration i=0\n",
                        "we are being at iteration i=1\n",
                        "we are being at iteration i=2\n",
                        "we are being at iteration i=3\n",
                        "we are being at iteration i=4\n",
                        "we are being at iteration i=5\n",
                        "we are being at iteration i=6\n",
                        "we are being at iteration i=7\n",
                        "we are being at iteration i=8\n",
                        "we are being at iteration i=9\n"
                    ]
                }
            ],
            "source": [
                "i = 0 \n",
                "while i<10:\n",
                "    print(f\"we are being at iteration i={i}\")\n",
                "    i = i + 1 "
            ]
        },
        {
            "cell_type": "code",
            "execution_count": 13,
            "metadata": {},
            "outputs": [
                {
                    "name": "stdout",
                    "output_type": "stream",
                    "text": [
                        "unsupported operand type(s) for +: 'NoneType' and 'int'\n"
                    ]
                }
            ],
            "source": [
                "# In programming langauges, there are somethings that you are not supposed to do \n",
                "# otherwise, the programm will throw some Error.\n",
                "# to handle/catch these errors, we use try-except\n",
                "try:\n",
                "    x = None \n",
                "    y=1\n",
                "    z = x+y \n",
                "except Exception as err:\n",
                "    print(err) "
            ]
        }
    ],
    "metadata": {
        "colab": {
            "collapsed_sections": [
                "W9iyVTq9U2TE",
                "7__we_p0bRtr",
                "uWpToU_kbWQZ",
                "7Zy0v8QdrZzh",
                "d2heQK7Ucyg5",
                "9AZrdJaVfAMM",
                "0LaQ2lK6vWMe"
            ],
            "include_colab_link": true,
            "name": "Seminar_210605_Python_Intro",
            "provenance": [],
            "toc_visible": true
        },
        "kernelspec": {
            "display_name": "local-venv",
            "language": "python",
            "name": "local-venv"
        },
        "language_info": {
            "codemirror_mode": {
                "name": "ipython",
                "version": 3
            },
            "file_extension": ".py",
            "mimetype": "text/x-python",
            "name": "python",
            "nbconvert_exporter": "python",
            "pygments_lexer": "ipython3",
            "version": "3.6.9"
        },
        "vscode": {
            "interpreter": {
                "hash": "df0893f56f349688326838aaeea0de204df53a132722cbd565e54b24a8fec5f6"
            }
        }
    },
    "nbformat": 4,
    "nbformat_minor": 0
}
