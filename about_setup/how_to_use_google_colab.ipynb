{
 "cells": [
  {
   "cell_type": "markdown",
   "metadata": {},
   "source": [
    "# How to use Google Colab? \n",
    "\n",
    "\n",
    "**Author:** [Tran Thu Le][le]\n",
    "\n",
    "**Note:** To open this file in Google Colab from Github: Change \"github\" in url to \"githubtocolab\" and hit `Enter`\n",
    "\n",
    "[le]: https://tranthule.blogspot.com/p/about-me.html"
   ]
  },
  {
   "cell_type": "markdown",
   "metadata": {},
   "source": [
    "## 1. `hello world` in Google Colab \n",
    "\n",
    "a) Go to: https://colab.research.google.com/\n",
    "\n",
    "b) Insert a code cell. There are 4 ways to do that by clicking on the red-boxes in the figure below.\n",
    "\n",
    "c) Type `print(\"hello world\")` and hit `Enter`. You will see the text hello world right below your code cell.\n",
    "\n",
    "<img src=\"../figs/google_colab.png\" alt=\"drawing\" width=\"800\"/>\n",
    "<!-- ![abc](../figs/google_colab.png) -->"
   ]
  },
  {
   "cell_type": "markdown",
   "metadata": {},
   "source": [
    "## 2. Interface"
   ]
  },
  {
   "cell_type": "markdown",
   "metadata": {},
   "source": [
    "<img src=\"../figs/gcolab_split.png\" alt=\"drawing\" width=\"800\"/>"
   ]
  }
 ],
 "metadata": {
  "kernelspec": {
   "display_name": "Python 3.9.13 ('base')",
   "language": "python",
   "name": "python3"
  },
  "language_info": {
   "codemirror_mode": {
    "name": "ipython",
    "version": 3
   },
   "file_extension": ".py",
   "mimetype": "text/x-python",
   "name": "python",
   "nbconvert_exporter": "python",
   "pygments_lexer": "ipython3",
   "version": "3.9.13"
  },
  "orig_nbformat": 4,
  "vscode": {
   "interpreter": {
    "hash": "32e6a73af9cde664395d954819f30fbab6a8fb84cb72908e9bd9d997d0df6aa9"
   }
  }
 },
 "nbformat": 4,
 "nbformat_minor": 2
}
