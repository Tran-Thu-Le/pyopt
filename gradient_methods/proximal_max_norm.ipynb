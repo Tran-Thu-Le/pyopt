{
 "cells": [
  {
   "attachments": {},
   "cell_type": "markdown",
   "metadata": {},
   "source": [
    "# The Proximal Operator of the  Infinity Norm\n",
    "\n",
    "\n",
    "If you want to find the proximal operator of $\\|x\\|_{\\infty}$, you don't want to compute the subgradient directly. Rather, as the previous answer mentioned, we can use Moreau decomposition:\n",
    "$$ v = \\textrm{prox}_{f}(v) + \\textrm{prox}_{f^*}(v)$$\n",
    "where $f^*$ is the convex conjugate, given by:\n",
    "$$ f^*(x) = \\underset{y}{\\sup}\\;(x^Ty - f(y))$$\n",
    "\n",
    "In the case of norms, the convex conjugate is an indicator function based on the dual norm, i.e. if $f(x) = \\|x\\|_p$, for $p \\geq 1$, then $f^*(x) = 1_{\\{\\|x\\|_q \\leq 1\\}}(x)$, where $1/p + 1/q = 1$, and the indicator function is:\n",
    "\n",
    "\\begin{equation}\n",
    "  1_S(x)=\\begin{cases}\n",
    "    0, & \\text{if $x \\in S$}.\\\\\n",
    "    \\infty, & \\text{if $x \\notin S$}.\n",
    "  \\end{cases}\n",
    "\\end{equation}\n",
    "\n",
    "\n",
    "For your particular question, $f(x) = \\|x\\|_{\\infty}$, so $f^*(x) = 1_{\\{\\|x\\|_1\\leq 1\\}}(x)$.\n",
    "\n",
    "We know\n",
    "$$\\textrm{prox}_{f}(x) = x - \\textrm{prox}_{f^*}(x)$$\n",
    "\n",
    "Thus we need to find\n",
    "$$\\textrm{prox}_{f^*}(x) = \\underset{z}{\\arg\\min} \\; \\left(1_{\\{\\|z\\|_1 \\leq 1\\}} + \\|z - x\\|_2^2 \\right)$$\n",
    "\n",
    "But this is simply projection onto the $L_1$ ball, thus the prox of the infinity norm is given by:\n",
    "$$ \\textrm{prox}_{\\|\\cdot\\|_{\\infty}}(x) = x - \\textrm{Proj}_{\\{\\|\\cdot\\|_1 \\leq 1\\}}(x)$$\n",
    "\n",
    "The best reference for this is [Neal Parikh, Stephen Boyd - Proximal Algorithms][1].\n",
    "\n",
    "\n",
    "  [1]: https://web.stanford.edu/~boyd/papers/pdf/prox_algs.pdf"
   ]
  },
  {
   "cell_type": "code",
   "execution_count": null,
   "metadata": {},
   "outputs": [],
   "source": []
  }
 ],
 "metadata": {
  "kernelspec": {
   "display_name": "base",
   "language": "python",
   "name": "python3"
  },
  "language_info": {
   "name": "python",
   "version": "3.9.13"
  },
  "orig_nbformat": 4
 },
 "nbformat": 4,
 "nbformat_minor": 2
}
